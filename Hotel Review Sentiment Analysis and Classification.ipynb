{
 "cells": [
  {
   "cell_type": "code",
   "execution_count": 1,
   "id": "22445231",
   "metadata": {},
   "outputs": [],
   "source": [
    "#import packages"
   ]
  },
  {
   "cell_type": "code",
   "execution_count": 2,
   "id": "e6385e47",
   "metadata": {},
   "outputs": [],
   "source": [
    "import pandas as pd"
   ]
  },
  {
   "cell_type": "code",
   "execution_count": 3,
   "id": "eae948b5",
   "metadata": {},
   "outputs": [],
   "source": [
    "#Exploratory data analysis"
   ]
  },
  {
   "cell_type": "code",
   "execution_count": 4,
   "id": "4b595fe5",
   "metadata": {},
   "outputs": [],
   "source": [
    "data = pd.read_csv('tripadvisor_hotel_reviews.csv')"
   ]
  },
  {
   "cell_type": "code",
   "execution_count": 5,
   "id": "9f2490c7",
   "metadata": {},
   "outputs": [
    {
     "data": {
      "text/html": [
       "<div>\n",
       "<style scoped>\n",
       "    .dataframe tbody tr th:only-of-type {\n",
       "        vertical-align: middle;\n",
       "    }\n",
       "\n",
       "    .dataframe tbody tr th {\n",
       "        vertical-align: top;\n",
       "    }\n",
       "\n",
       "    .dataframe thead th {\n",
       "        text-align: right;\n",
       "    }\n",
       "</style>\n",
       "<table border=\"1\" class=\"dataframe\">\n",
       "  <thead>\n",
       "    <tr style=\"text-align: right;\">\n",
       "      <th></th>\n",
       "      <th>Review</th>\n",
       "      <th>Rating</th>\n",
       "    </tr>\n",
       "  </thead>\n",
       "  <tbody>\n",
       "    <tr>\n",
       "      <th>0</th>\n",
       "      <td>nice hotel expensive parking got good deal sta...</td>\n",
       "      <td>4</td>\n",
       "    </tr>\n",
       "    <tr>\n",
       "      <th>1</th>\n",
       "      <td>ok nothing special charge diamond member hilto...</td>\n",
       "      <td>2</td>\n",
       "    </tr>\n",
       "    <tr>\n",
       "      <th>2</th>\n",
       "      <td>nice rooms not 4* experience hotel monaco seat...</td>\n",
       "      <td>3</td>\n",
       "    </tr>\n",
       "    <tr>\n",
       "      <th>3</th>\n",
       "      <td>unique, great stay, wonderful time hotel monac...</td>\n",
       "      <td>5</td>\n",
       "    </tr>\n",
       "    <tr>\n",
       "      <th>4</th>\n",
       "      <td>great stay great stay, went seahawk game aweso...</td>\n",
       "      <td>5</td>\n",
       "    </tr>\n",
       "  </tbody>\n",
       "</table>\n",
       "</div>"
      ],
      "text/plain": [
       "                                              Review  Rating\n",
       "0  nice hotel expensive parking got good deal sta...       4\n",
       "1  ok nothing special charge diamond member hilto...       2\n",
       "2  nice rooms not 4* experience hotel monaco seat...       3\n",
       "3  unique, great stay, wonderful time hotel monac...       5\n",
       "4  great stay great stay, went seahawk game aweso...       5"
      ]
     },
     "execution_count": 5,
     "metadata": {},
     "output_type": "execute_result"
    }
   ],
   "source": [
    "data.head()"
   ]
  },
  {
   "cell_type": "code",
   "execution_count": 6,
   "id": "76cbd876",
   "metadata": {},
   "outputs": [
    {
     "data": {
      "text/html": [
       "<div>\n",
       "<style scoped>\n",
       "    .dataframe tbody tr th:only-of-type {\n",
       "        vertical-align: middle;\n",
       "    }\n",
       "\n",
       "    .dataframe tbody tr th {\n",
       "        vertical-align: top;\n",
       "    }\n",
       "\n",
       "    .dataframe thead th {\n",
       "        text-align: right;\n",
       "    }\n",
       "</style>\n",
       "<table border=\"1\" class=\"dataframe\">\n",
       "  <thead>\n",
       "    <tr style=\"text-align: right;\">\n",
       "      <th></th>\n",
       "      <th>Review</th>\n",
       "      <th>Rating</th>\n",
       "    </tr>\n",
       "  </thead>\n",
       "  <tbody>\n",
       "    <tr>\n",
       "      <th>20486</th>\n",
       "      <td>best kept secret 3rd time staying charm, not 5...</td>\n",
       "      <td>5</td>\n",
       "    </tr>\n",
       "    <tr>\n",
       "      <th>20487</th>\n",
       "      <td>great location price view hotel great quick pl...</td>\n",
       "      <td>4</td>\n",
       "    </tr>\n",
       "    <tr>\n",
       "      <th>20488</th>\n",
       "      <td>ok just looks nice modern outside, desk staff ...</td>\n",
       "      <td>2</td>\n",
       "    </tr>\n",
       "    <tr>\n",
       "      <th>20489</th>\n",
       "      <td>hotel theft ruined vacation hotel opened sept ...</td>\n",
       "      <td>1</td>\n",
       "    </tr>\n",
       "    <tr>\n",
       "      <th>20490</th>\n",
       "      <td>people talking, ca n't believe excellent ratin...</td>\n",
       "      <td>2</td>\n",
       "    </tr>\n",
       "  </tbody>\n",
       "</table>\n",
       "</div>"
      ],
      "text/plain": [
       "                                                  Review  Rating\n",
       "20486  best kept secret 3rd time staying charm, not 5...       5\n",
       "20487  great location price view hotel great quick pl...       4\n",
       "20488  ok just looks nice modern outside, desk staff ...       2\n",
       "20489  hotel theft ruined vacation hotel opened sept ...       1\n",
       "20490  people talking, ca n't believe excellent ratin...       2"
      ]
     },
     "execution_count": 6,
     "metadata": {},
     "output_type": "execute_result"
    }
   ],
   "source": [
    "data.tail()"
   ]
  },
  {
   "cell_type": "code",
   "execution_count": 7,
   "id": "53495225",
   "metadata": {},
   "outputs": [
    {
     "data": {
      "text/html": [
       "<div>\n",
       "<style scoped>\n",
       "    .dataframe tbody tr th:only-of-type {\n",
       "        vertical-align: middle;\n",
       "    }\n",
       "\n",
       "    .dataframe tbody tr th {\n",
       "        vertical-align: top;\n",
       "    }\n",
       "\n",
       "    .dataframe thead th {\n",
       "        text-align: right;\n",
       "    }\n",
       "</style>\n",
       "<table border=\"1\" class=\"dataframe\">\n",
       "  <thead>\n",
       "    <tr style=\"text-align: right;\">\n",
       "      <th></th>\n",
       "      <th>Rating</th>\n",
       "    </tr>\n",
       "  </thead>\n",
       "  <tbody>\n",
       "    <tr>\n",
       "      <th>count</th>\n",
       "      <td>20491.000000</td>\n",
       "    </tr>\n",
       "    <tr>\n",
       "      <th>mean</th>\n",
       "      <td>3.952223</td>\n",
       "    </tr>\n",
       "    <tr>\n",
       "      <th>std</th>\n",
       "      <td>1.233030</td>\n",
       "    </tr>\n",
       "    <tr>\n",
       "      <th>min</th>\n",
       "      <td>1.000000</td>\n",
       "    </tr>\n",
       "    <tr>\n",
       "      <th>25%</th>\n",
       "      <td>3.000000</td>\n",
       "    </tr>\n",
       "    <tr>\n",
       "      <th>50%</th>\n",
       "      <td>4.000000</td>\n",
       "    </tr>\n",
       "    <tr>\n",
       "      <th>75%</th>\n",
       "      <td>5.000000</td>\n",
       "    </tr>\n",
       "    <tr>\n",
       "      <th>max</th>\n",
       "      <td>5.000000</td>\n",
       "    </tr>\n",
       "  </tbody>\n",
       "</table>\n",
       "</div>"
      ],
      "text/plain": [
       "             Rating\n",
       "count  20491.000000\n",
       "mean       3.952223\n",
       "std        1.233030\n",
       "min        1.000000\n",
       "25%        3.000000\n",
       "50%        4.000000\n",
       "75%        5.000000\n",
       "max        5.000000"
      ]
     },
     "execution_count": 7,
     "metadata": {},
     "output_type": "execute_result"
    }
   ],
   "source": [
    "data.describe()"
   ]
  },
  {
   "cell_type": "code",
   "execution_count": 8,
   "id": "6878c285",
   "metadata": {},
   "outputs": [
    {
     "data": {
      "text/plain": [
       "(20491, 2)"
      ]
     },
     "execution_count": 8,
     "metadata": {},
     "output_type": "execute_result"
    }
   ],
   "source": [
    "data.shape"
   ]
  },
  {
   "cell_type": "code",
   "execution_count": 9,
   "id": "76b6b850",
   "metadata": {},
   "outputs": [
    {
     "data": {
      "text/plain": [
       "Review    0\n",
       "Rating    0\n",
       "dtype: int64"
      ]
     },
     "execution_count": 9,
     "metadata": {},
     "output_type": "execute_result"
    }
   ],
   "source": [
    "data.isnull().sum()"
   ]
  },
  {
   "cell_type": "code",
   "execution_count": 10,
   "id": "10c50bde",
   "metadata": {},
   "outputs": [],
   "source": [
    "blank = []\n",
    "for index in data[\"Review\"]:\n",
    "    if index.isspace()==True:\n",
    "        blank.append(index)"
   ]
  },
  {
   "cell_type": "code",
   "execution_count": 11,
   "id": "0d7370dd",
   "metadata": {},
   "outputs": [
    {
     "data": {
      "text/plain": [
       "[]"
      ]
     },
     "execution_count": 11,
     "metadata": {},
     "output_type": "execute_result"
    }
   ],
   "source": [
    "blank"
   ]
  },
  {
   "cell_type": "code",
   "execution_count": 12,
   "id": "35640d0b",
   "metadata": {},
   "outputs": [
    {
     "data": {
      "text/plain": [
       "5    9054\n",
       "4    6039\n",
       "3    2184\n",
       "2    1793\n",
       "1    1421\n",
       "Name: Rating, dtype: int64"
      ]
     },
     "execution_count": 12,
     "metadata": {},
     "output_type": "execute_result"
    }
   ],
   "source": [
    "data[\"Rating\"].value_counts()"
   ]
  },
  {
   "cell_type": "code",
   "execution_count": 13,
   "id": "ce53218c",
   "metadata": {},
   "outputs": [
    {
     "data": {
      "text/plain": [
       "0        4\n",
       "1        2\n",
       "2        3\n",
       "3        5\n",
       "4        5\n",
       "        ..\n",
       "20486    5\n",
       "20487    4\n",
       "20488    2\n",
       "20489    1\n",
       "20490    2\n",
       "Name: Rating, Length: 20491, dtype: int64"
      ]
     },
     "execution_count": 13,
     "metadata": {},
     "output_type": "execute_result"
    }
   ],
   "source": [
    "data['Rating']"
   ]
  },
  {
   "cell_type": "code",
   "execution_count": 14,
   "id": "15375402",
   "metadata": {},
   "outputs": [
    {
     "data": {
      "text/plain": [
       "1    1421\n",
       "2    1793\n",
       "3    2184\n",
       "4    6039\n",
       "5    9054\n",
       "Name: Rating, dtype: int64"
      ]
     },
     "execution_count": 14,
     "metadata": {},
     "output_type": "execute_result"
    }
   ],
   "source": [
    "data[\"Rating\"].value_counts().sort_values()"
   ]
  },
  {
   "cell_type": "code",
   "execution_count": 15,
   "id": "04e22e3b",
   "metadata": {},
   "outputs": [],
   "source": [
    "def rating(rating):\n",
    "    if rating > 3 and rating <=5:\n",
    "        return \"postive\"\n",
    "    if rating > 0 and rating <=3:\n",
    "        return \"negative\"\n",
    "data[\"Rating_result\"] = data[\"Rating\"].apply(rating)"
   ]
  },
  {
   "cell_type": "code",
   "execution_count": 16,
   "id": "1cb6213c",
   "metadata": {},
   "outputs": [
    {
     "data": {
      "text/html": [
       "<div>\n",
       "<style scoped>\n",
       "    .dataframe tbody tr th:only-of-type {\n",
       "        vertical-align: middle;\n",
       "    }\n",
       "\n",
       "    .dataframe tbody tr th {\n",
       "        vertical-align: top;\n",
       "    }\n",
       "\n",
       "    .dataframe thead th {\n",
       "        text-align: right;\n",
       "    }\n",
       "</style>\n",
       "<table border=\"1\" class=\"dataframe\">\n",
       "  <thead>\n",
       "    <tr style=\"text-align: right;\">\n",
       "      <th></th>\n",
       "      <th>Review</th>\n",
       "      <th>Rating</th>\n",
       "      <th>Rating_result</th>\n",
       "    </tr>\n",
       "  </thead>\n",
       "  <tbody>\n",
       "    <tr>\n",
       "      <th>0</th>\n",
       "      <td>nice hotel expensive parking got good deal sta...</td>\n",
       "      <td>4</td>\n",
       "      <td>postive</td>\n",
       "    </tr>\n",
       "    <tr>\n",
       "      <th>1</th>\n",
       "      <td>ok nothing special charge diamond member hilto...</td>\n",
       "      <td>2</td>\n",
       "      <td>negative</td>\n",
       "    </tr>\n",
       "    <tr>\n",
       "      <th>2</th>\n",
       "      <td>nice rooms not 4* experience hotel monaco seat...</td>\n",
       "      <td>3</td>\n",
       "      <td>negative</td>\n",
       "    </tr>\n",
       "    <tr>\n",
       "      <th>3</th>\n",
       "      <td>unique, great stay, wonderful time hotel monac...</td>\n",
       "      <td>5</td>\n",
       "      <td>postive</td>\n",
       "    </tr>\n",
       "    <tr>\n",
       "      <th>4</th>\n",
       "      <td>great stay great stay, went seahawk game aweso...</td>\n",
       "      <td>5</td>\n",
       "      <td>postive</td>\n",
       "    </tr>\n",
       "  </tbody>\n",
       "</table>\n",
       "</div>"
      ],
      "text/plain": [
       "                                              Review  Rating Rating_result\n",
       "0  nice hotel expensive parking got good deal sta...       4       postive\n",
       "1  ok nothing special charge diamond member hilto...       2      negative\n",
       "2  nice rooms not 4* experience hotel monaco seat...       3      negative\n",
       "3  unique, great stay, wonderful time hotel monac...       5       postive\n",
       "4  great stay great stay, went seahawk game aweso...       5       postive"
      ]
     },
     "execution_count": 16,
     "metadata": {},
     "output_type": "execute_result"
    }
   ],
   "source": [
    "data.head()"
   ]
  },
  {
   "cell_type": "code",
   "execution_count": 17,
   "id": "ac23b680",
   "metadata": {},
   "outputs": [
    {
     "data": {
      "text/plain": [
       "postive     15093\n",
       "negative     5398\n",
       "Name: Rating_result, dtype: int64"
      ]
     },
     "execution_count": 17,
     "metadata": {},
     "output_type": "execute_result"
    }
   ],
   "source": [
    "data['Rating_result'].value_counts()"
   ]
  },
  {
   "cell_type": "code",
   "execution_count": 18,
   "id": "4471b087",
   "metadata": {},
   "outputs": [
    {
     "data": {
      "text/html": [
       "<div>\n",
       "<style scoped>\n",
       "    .dataframe tbody tr th:only-of-type {\n",
       "        vertical-align: middle;\n",
       "    }\n",
       "\n",
       "    .dataframe tbody tr th {\n",
       "        vertical-align: top;\n",
       "    }\n",
       "\n",
       "    .dataframe thead th {\n",
       "        text-align: right;\n",
       "    }\n",
       "</style>\n",
       "<table border=\"1\" class=\"dataframe\">\n",
       "  <thead>\n",
       "    <tr style=\"text-align: right;\">\n",
       "      <th></th>\n",
       "      <th>Review</th>\n",
       "      <th>Rating</th>\n",
       "      <th>Rating_result</th>\n",
       "    </tr>\n",
       "  </thead>\n",
       "  <tbody>\n",
       "    <tr>\n",
       "      <th>0</th>\n",
       "      <td>nice hotel expensive parking got good deal sta...</td>\n",
       "      <td>4</td>\n",
       "      <td>postive</td>\n",
       "    </tr>\n",
       "    <tr>\n",
       "      <th>1</th>\n",
       "      <td>ok nothing special charge diamond member hilto...</td>\n",
       "      <td>2</td>\n",
       "      <td>postive</td>\n",
       "    </tr>\n",
       "    <tr>\n",
       "      <th>2</th>\n",
       "      <td>nice rooms not 4* experience hotel monaco seat...</td>\n",
       "      <td>3</td>\n",
       "      <td>postive</td>\n",
       "    </tr>\n",
       "    <tr>\n",
       "      <th>3</th>\n",
       "      <td>unique, great stay, wonderful time hotel monac...</td>\n",
       "      <td>5</td>\n",
       "      <td>postive</td>\n",
       "    </tr>\n",
       "    <tr>\n",
       "      <th>4</th>\n",
       "      <td>great stay great stay, went seahawk game aweso...</td>\n",
       "      <td>5</td>\n",
       "      <td>postive</td>\n",
       "    </tr>\n",
       "  </tbody>\n",
       "</table>\n",
       "</div>"
      ],
      "text/plain": [
       "                                              Review  Rating Rating_result\n",
       "0  nice hotel expensive parking got good deal sta...       4       postive\n",
       "1  ok nothing special charge diamond member hilto...       2       postive\n",
       "2  nice rooms not 4* experience hotel monaco seat...       3       postive\n",
       "3  unique, great stay, wonderful time hotel monac...       5       postive\n",
       "4  great stay great stay, went seahawk game aweso...       5       postive"
      ]
     },
     "execution_count": 18,
     "metadata": {},
     "output_type": "execute_result"
    }
   ],
   "source": [
    "data['Rating_result'] = \"postive\"\n",
    "data.head()"
   ]
  },
  {
   "cell_type": "code",
   "execution_count": 19,
   "id": "8aed2e03",
   "metadata": {},
   "outputs": [
    {
     "data": {
      "text/html": [
       "<div>\n",
       "<style scoped>\n",
       "    .dataframe tbody tr th:only-of-type {\n",
       "        vertical-align: middle;\n",
       "    }\n",
       "\n",
       "    .dataframe tbody tr th {\n",
       "        vertical-align: top;\n",
       "    }\n",
       "\n",
       "    .dataframe thead th {\n",
       "        text-align: right;\n",
       "    }\n",
       "</style>\n",
       "<table border=\"1\" class=\"dataframe\">\n",
       "  <thead>\n",
       "    <tr style=\"text-align: right;\">\n",
       "      <th></th>\n",
       "      <th>Review</th>\n",
       "      <th>Rating</th>\n",
       "      <th>Rating_result</th>\n",
       "    </tr>\n",
       "  </thead>\n",
       "  <tbody>\n",
       "    <tr>\n",
       "      <th>20486</th>\n",
       "      <td>best kept secret 3rd time staying charm, not 5...</td>\n",
       "      <td>5</td>\n",
       "      <td>negative</td>\n",
       "    </tr>\n",
       "    <tr>\n",
       "      <th>20487</th>\n",
       "      <td>great location price view hotel great quick pl...</td>\n",
       "      <td>4</td>\n",
       "      <td>negative</td>\n",
       "    </tr>\n",
       "    <tr>\n",
       "      <th>20488</th>\n",
       "      <td>ok just looks nice modern outside, desk staff ...</td>\n",
       "      <td>2</td>\n",
       "      <td>negative</td>\n",
       "    </tr>\n",
       "    <tr>\n",
       "      <th>20489</th>\n",
       "      <td>hotel theft ruined vacation hotel opened sept ...</td>\n",
       "      <td>1</td>\n",
       "      <td>negative</td>\n",
       "    </tr>\n",
       "    <tr>\n",
       "      <th>20490</th>\n",
       "      <td>people talking, ca n't believe excellent ratin...</td>\n",
       "      <td>2</td>\n",
       "      <td>negative</td>\n",
       "    </tr>\n",
       "  </tbody>\n",
       "</table>\n",
       "</div>"
      ],
      "text/plain": [
       "                                                  Review  Rating Rating_result\n",
       "20486  best kept secret 3rd time staying charm, not 5...       5      negative\n",
       "20487  great location price view hotel great quick pl...       4      negative\n",
       "20488  ok just looks nice modern outside, desk staff ...       2      negative\n",
       "20489  hotel theft ruined vacation hotel opened sept ...       1      negative\n",
       "20490  people talking, ca n't believe excellent ratin...       2      negative"
      ]
     },
     "execution_count": 19,
     "metadata": {},
     "output_type": "execute_result"
    }
   ],
   "source": [
    "data['Rating_result'] = \"negative\"\n",
    "data.tail()"
   ]
  },
  {
   "cell_type": "code",
   "execution_count": 20,
   "id": "e260f10b",
   "metadata": {},
   "outputs": [],
   "source": [
    "#sentiment Analysis"
   ]
  },
  {
   "cell_type": "code",
   "execution_count": 21,
   "id": "6dd8b56e",
   "metadata": {},
   "outputs": [
    {
     "name": "stderr",
     "output_type": "stream",
     "text": [
      "[nltk_data] Downloading package vader_lexicon to\n",
      "[nltk_data]     C:\\Users\\HP\\AppData\\Roaming\\nltk_data...\n",
      "[nltk_data]   Package vader_lexicon is already up-to-date!\n"
     ]
    },
    {
     "data": {
      "text/plain": [
       "True"
      ]
     },
     "execution_count": 21,
     "metadata": {},
     "output_type": "execute_result"
    }
   ],
   "source": [
    "import nltk\n",
    "nltk.download(\"vader_lexicon\")"
   ]
  },
  {
   "cell_type": "code",
   "execution_count": 31,
   "id": "29a7f988",
   "metadata": {},
   "outputs": [],
   "source": [
    "from vaderSentiment.vaderSentiment import SentimentIntensityAnalyzer"
   ]
  },
  {
   "cell_type": "code",
   "execution_count": 30,
   "id": "fa275e48",
   "metadata": {},
   "outputs": [],
   "source": [
    "sentanalyze = SentimentIntensityAnalyzer()"
   ]
  },
  {
   "cell_type": "code",
   "execution_count": 28,
   "id": "a406a3ee",
   "metadata": {},
   "outputs": [],
   "source": [
    "data[\"scores\"] = data[\"Review\"].apply(lambda review:sentanalyze.polarity_scores(review))"
   ]
  },
  {
   "cell_type": "code",
   "execution_count": 29,
   "id": "4f11e3f1",
   "metadata": {},
   "outputs": [
    {
     "data": {
      "text/html": [
       "<div>\n",
       "<style scoped>\n",
       "    .dataframe tbody tr th:only-of-type {\n",
       "        vertical-align: middle;\n",
       "    }\n",
       "\n",
       "    .dataframe tbody tr th {\n",
       "        vertical-align: top;\n",
       "    }\n",
       "\n",
       "    .dataframe thead th {\n",
       "        text-align: right;\n",
       "    }\n",
       "</style>\n",
       "<table border=\"1\" class=\"dataframe\">\n",
       "  <thead>\n",
       "    <tr style=\"text-align: right;\">\n",
       "      <th></th>\n",
       "      <th>Review</th>\n",
       "      <th>Rating</th>\n",
       "      <th>Rating_result</th>\n",
       "      <th>scores</th>\n",
       "    </tr>\n",
       "  </thead>\n",
       "  <tbody>\n",
       "    <tr>\n",
       "      <th>0</th>\n",
       "      <td>nice hotel expensive parking got good deal sta...</td>\n",
       "      <td>4</td>\n",
       "      <td>negative</td>\n",
       "      <td>{'neg': 0.093, 'neu': 0.646, 'pos': 0.261, 'co...</td>\n",
       "    </tr>\n",
       "    <tr>\n",
       "      <th>1</th>\n",
       "      <td>ok nothing special charge diamond member hilto...</td>\n",
       "      <td>2</td>\n",
       "      <td>negative</td>\n",
       "      <td>{'neg': 0.092, 'neu': 0.711, 'pos': 0.197, 'co...</td>\n",
       "    </tr>\n",
       "    <tr>\n",
       "      <th>2</th>\n",
       "      <td>nice rooms not 4* experience hotel monaco seat...</td>\n",
       "      <td>3</td>\n",
       "      <td>negative</td>\n",
       "      <td>{'neg': 0.084, 'neu': 0.715, 'pos': 0.2, 'comp...</td>\n",
       "    </tr>\n",
       "    <tr>\n",
       "      <th>3</th>\n",
       "      <td>unique, great stay, wonderful time hotel monac...</td>\n",
       "      <td>5</td>\n",
       "      <td>negative</td>\n",
       "      <td>{'neg': 0.055, 'neu': 0.557, 'pos': 0.388, 'co...</td>\n",
       "    </tr>\n",
       "    <tr>\n",
       "      <th>4</th>\n",
       "      <td>great stay great stay, went seahawk game aweso...</td>\n",
       "      <td>5</td>\n",
       "      <td>negative</td>\n",
       "      <td>{'neg': 0.118, 'neu': 0.644, 'pos': 0.238, 'co...</td>\n",
       "    </tr>\n",
       "  </tbody>\n",
       "</table>\n",
       "</div>"
      ],
      "text/plain": [
       "                                              Review  Rating Rating_result  \\\n",
       "0  nice hotel expensive parking got good deal sta...       4      negative   \n",
       "1  ok nothing special charge diamond member hilto...       2      negative   \n",
       "2  nice rooms not 4* experience hotel monaco seat...       3      negative   \n",
       "3  unique, great stay, wonderful time hotel monac...       5      negative   \n",
       "4  great stay great stay, went seahawk game aweso...       5      negative   \n",
       "\n",
       "                                              scores  \n",
       "0  {'neg': 0.093, 'neu': 0.646, 'pos': 0.261, 'co...  \n",
       "1  {'neg': 0.092, 'neu': 0.711, 'pos': 0.197, 'co...  \n",
       "2  {'neg': 0.084, 'neu': 0.715, 'pos': 0.2, 'comp...  \n",
       "3  {'neg': 0.055, 'neu': 0.557, 'pos': 0.388, 'co...  \n",
       "4  {'neg': 0.118, 'neu': 0.644, 'pos': 0.238, 'co...  "
      ]
     },
     "execution_count": 29,
     "metadata": {},
     "output_type": "execute_result"
    }
   ],
   "source": [
    "data.head()"
   ]
  },
  {
   "cell_type": "code",
   "execution_count": 35,
   "id": "7be2667c",
   "metadata": {},
   "outputs": [],
   "source": [
    "data[\"compound\"] = data[\"scores\"].apply(lambda f:f[\"compound\"])"
   ]
  },
  {
   "cell_type": "code",
   "execution_count": 36,
   "id": "6e8adb15",
   "metadata": {},
   "outputs": [
    {
     "data": {
      "text/html": [
       "<div>\n",
       "<style scoped>\n",
       "    .dataframe tbody tr th:only-of-type {\n",
       "        vertical-align: middle;\n",
       "    }\n",
       "\n",
       "    .dataframe tbody tr th {\n",
       "        vertical-align: top;\n",
       "    }\n",
       "\n",
       "    .dataframe thead th {\n",
       "        text-align: right;\n",
       "    }\n",
       "</style>\n",
       "<table border=\"1\" class=\"dataframe\">\n",
       "  <thead>\n",
       "    <tr style=\"text-align: right;\">\n",
       "      <th></th>\n",
       "      <th>Review</th>\n",
       "      <th>Rating</th>\n",
       "      <th>Rating_result</th>\n",
       "      <th>scores</th>\n",
       "      <th>compound</th>\n",
       "    </tr>\n",
       "  </thead>\n",
       "  <tbody>\n",
       "    <tr>\n",
       "      <th>0</th>\n",
       "      <td>nice hotel expensive parking got good deal sta...</td>\n",
       "      <td>4</td>\n",
       "      <td>negative</td>\n",
       "      <td>{'neg': 0.093, 'neu': 0.646, 'pos': 0.261, 'co...</td>\n",
       "      <td>0.9626</td>\n",
       "    </tr>\n",
       "    <tr>\n",
       "      <th>1</th>\n",
       "      <td>ok nothing special charge diamond member hilto...</td>\n",
       "      <td>2</td>\n",
       "      <td>negative</td>\n",
       "      <td>{'neg': 0.092, 'neu': 0.711, 'pos': 0.197, 'co...</td>\n",
       "      <td>0.9870</td>\n",
       "    </tr>\n",
       "    <tr>\n",
       "      <th>2</th>\n",
       "      <td>nice rooms not 4* experience hotel monaco seat...</td>\n",
       "      <td>3</td>\n",
       "      <td>negative</td>\n",
       "      <td>{'neg': 0.084, 'neu': 0.715, 'pos': 0.2, 'comp...</td>\n",
       "      <td>0.9842</td>\n",
       "    </tr>\n",
       "    <tr>\n",
       "      <th>3</th>\n",
       "      <td>unique, great stay, wonderful time hotel monac...</td>\n",
       "      <td>5</td>\n",
       "      <td>negative</td>\n",
       "      <td>{'neg': 0.055, 'neu': 0.557, 'pos': 0.388, 'co...</td>\n",
       "      <td>0.9920</td>\n",
       "    </tr>\n",
       "    <tr>\n",
       "      <th>4</th>\n",
       "      <td>great stay great stay, went seahawk game aweso...</td>\n",
       "      <td>5</td>\n",
       "      <td>negative</td>\n",
       "      <td>{'neg': 0.118, 'neu': 0.644, 'pos': 0.238, 'co...</td>\n",
       "      <td>0.9870</td>\n",
       "    </tr>\n",
       "  </tbody>\n",
       "</table>\n",
       "</div>"
      ],
      "text/plain": [
       "                                              Review  Rating Rating_result  \\\n",
       "0  nice hotel expensive parking got good deal sta...       4      negative   \n",
       "1  ok nothing special charge diamond member hilto...       2      negative   \n",
       "2  nice rooms not 4* experience hotel monaco seat...       3      negative   \n",
       "3  unique, great stay, wonderful time hotel monac...       5      negative   \n",
       "4  great stay great stay, went seahawk game aweso...       5      negative   \n",
       "\n",
       "                                              scores  compound  \n",
       "0  {'neg': 0.093, 'neu': 0.646, 'pos': 0.261, 'co...    0.9626  \n",
       "1  {'neg': 0.092, 'neu': 0.711, 'pos': 0.197, 'co...    0.9870  \n",
       "2  {'neg': 0.084, 'neu': 0.715, 'pos': 0.2, 'comp...    0.9842  \n",
       "3  {'neg': 0.055, 'neu': 0.557, 'pos': 0.388, 'co...    0.9920  \n",
       "4  {'neg': 0.118, 'neu': 0.644, 'pos': 0.238, 'co...    0.9870  "
      ]
     },
     "execution_count": 36,
     "metadata": {},
     "output_type": "execute_result"
    }
   ],
   "source": [
    "data.head()"
   ]
  },
  {
   "cell_type": "code",
   "execution_count": 37,
   "id": "062845cd",
   "metadata": {},
   "outputs": [
    {
     "data": {
      "text/html": [
       "<div>\n",
       "<style scoped>\n",
       "    .dataframe tbody tr th:only-of-type {\n",
       "        vertical-align: middle;\n",
       "    }\n",
       "\n",
       "    .dataframe tbody tr th {\n",
       "        vertical-align: top;\n",
       "    }\n",
       "\n",
       "    .dataframe thead th {\n",
       "        text-align: right;\n",
       "    }\n",
       "</style>\n",
       "<table border=\"1\" class=\"dataframe\">\n",
       "  <thead>\n",
       "    <tr style=\"text-align: right;\">\n",
       "      <th></th>\n",
       "      <th>Review</th>\n",
       "      <th>Rating</th>\n",
       "      <th>Rating_result</th>\n",
       "      <th>scores</th>\n",
       "      <th>compound</th>\n",
       "    </tr>\n",
       "  </thead>\n",
       "  <tbody>\n",
       "    <tr>\n",
       "      <th>20486</th>\n",
       "      <td>best kept secret 3rd time staying charm, not 5...</td>\n",
       "      <td>5</td>\n",
       "      <td>negative</td>\n",
       "      <td>{'neg': 0.087, 'neu': 0.671, 'pos': 0.242, 'co...</td>\n",
       "      <td>0.9699</td>\n",
       "    </tr>\n",
       "    <tr>\n",
       "      <th>20487</th>\n",
       "      <td>great location price view hotel great quick pl...</td>\n",
       "      <td>4</td>\n",
       "      <td>negative</td>\n",
       "      <td>{'neg': 0.0, 'neu': 0.57, 'pos': 0.43, 'compou...</td>\n",
       "      <td>0.9753</td>\n",
       "    </tr>\n",
       "    <tr>\n",
       "      <th>20488</th>\n",
       "      <td>ok just looks nice modern outside, desk staff ...</td>\n",
       "      <td>2</td>\n",
       "      <td>negative</td>\n",
       "      <td>{'neg': 0.131, 'neu': 0.724, 'pos': 0.145, 'co...</td>\n",
       "      <td>0.2629</td>\n",
       "    </tr>\n",
       "    <tr>\n",
       "      <th>20489</th>\n",
       "      <td>hotel theft ruined vacation hotel opened sept ...</td>\n",
       "      <td>1</td>\n",
       "      <td>negative</td>\n",
       "      <td>{'neg': 0.155, 'neu': 0.677, 'pos': 0.168, 'co...</td>\n",
       "      <td>0.9696</td>\n",
       "    </tr>\n",
       "    <tr>\n",
       "      <th>20490</th>\n",
       "      <td>people talking, ca n't believe excellent ratin...</td>\n",
       "      <td>2</td>\n",
       "      <td>negative</td>\n",
       "      <td>{'neg': 0.172, 'neu': 0.665, 'pos': 0.163, 'co...</td>\n",
       "      <td>-0.0003</td>\n",
       "    </tr>\n",
       "  </tbody>\n",
       "</table>\n",
       "</div>"
      ],
      "text/plain": [
       "                                                  Review  Rating  \\\n",
       "20486  best kept secret 3rd time staying charm, not 5...       5   \n",
       "20487  great location price view hotel great quick pl...       4   \n",
       "20488  ok just looks nice modern outside, desk staff ...       2   \n",
       "20489  hotel theft ruined vacation hotel opened sept ...       1   \n",
       "20490  people talking, ca n't believe excellent ratin...       2   \n",
       "\n",
       "      Rating_result                                             scores  \\\n",
       "20486      negative  {'neg': 0.087, 'neu': 0.671, 'pos': 0.242, 'co...   \n",
       "20487      negative  {'neg': 0.0, 'neu': 0.57, 'pos': 0.43, 'compou...   \n",
       "20488      negative  {'neg': 0.131, 'neu': 0.724, 'pos': 0.145, 'co...   \n",
       "20489      negative  {'neg': 0.155, 'neu': 0.677, 'pos': 0.168, 'co...   \n",
       "20490      negative  {'neg': 0.172, 'neu': 0.665, 'pos': 0.163, 'co...   \n",
       "\n",
       "       compound  \n",
       "20486    0.9699  \n",
       "20487    0.9753  \n",
       "20488    0.2629  \n",
       "20489    0.9696  \n",
       "20490   -0.0003  "
      ]
     },
     "execution_count": 37,
     "metadata": {},
     "output_type": "execute_result"
    }
   ],
   "source": [
    "data.tail()"
   ]
  },
  {
   "cell_type": "code",
   "execution_count": 39,
   "id": "cb019f53",
   "metadata": {},
   "outputs": [],
   "source": [
    "data[\"compound_result\"] = data[\"compound\"].apply(lambda score:\"positve\" if score >=0 else \"negative\")\n"
   ]
  },
  {
   "cell_type": "code",
   "execution_count": 40,
   "id": "8ca6e857",
   "metadata": {},
   "outputs": [
    {
     "data": {
      "text/html": [
       "<div>\n",
       "<style scoped>\n",
       "    .dataframe tbody tr th:only-of-type {\n",
       "        vertical-align: middle;\n",
       "    }\n",
       "\n",
       "    .dataframe tbody tr th {\n",
       "        vertical-align: top;\n",
       "    }\n",
       "\n",
       "    .dataframe thead th {\n",
       "        text-align: right;\n",
       "    }\n",
       "</style>\n",
       "<table border=\"1\" class=\"dataframe\">\n",
       "  <thead>\n",
       "    <tr style=\"text-align: right;\">\n",
       "      <th></th>\n",
       "      <th>Review</th>\n",
       "      <th>Rating</th>\n",
       "      <th>Rating_result</th>\n",
       "      <th>scores</th>\n",
       "      <th>compound</th>\n",
       "      <th>compound_result</th>\n",
       "    </tr>\n",
       "  </thead>\n",
       "  <tbody>\n",
       "    <tr>\n",
       "      <th>0</th>\n",
       "      <td>nice hotel expensive parking got good deal sta...</td>\n",
       "      <td>4</td>\n",
       "      <td>negative</td>\n",
       "      <td>{'neg': 0.093, 'neu': 0.646, 'pos': 0.261, 'co...</td>\n",
       "      <td>0.9626</td>\n",
       "      <td>positve</td>\n",
       "    </tr>\n",
       "    <tr>\n",
       "      <th>1</th>\n",
       "      <td>ok nothing special charge diamond member hilto...</td>\n",
       "      <td>2</td>\n",
       "      <td>negative</td>\n",
       "      <td>{'neg': 0.092, 'neu': 0.711, 'pos': 0.197, 'co...</td>\n",
       "      <td>0.9870</td>\n",
       "      <td>positve</td>\n",
       "    </tr>\n",
       "    <tr>\n",
       "      <th>2</th>\n",
       "      <td>nice rooms not 4* experience hotel monaco seat...</td>\n",
       "      <td>3</td>\n",
       "      <td>negative</td>\n",
       "      <td>{'neg': 0.084, 'neu': 0.715, 'pos': 0.2, 'comp...</td>\n",
       "      <td>0.9842</td>\n",
       "      <td>positve</td>\n",
       "    </tr>\n",
       "    <tr>\n",
       "      <th>3</th>\n",
       "      <td>unique, great stay, wonderful time hotel monac...</td>\n",
       "      <td>5</td>\n",
       "      <td>negative</td>\n",
       "      <td>{'neg': 0.055, 'neu': 0.557, 'pos': 0.388, 'co...</td>\n",
       "      <td>0.9920</td>\n",
       "      <td>positve</td>\n",
       "    </tr>\n",
       "    <tr>\n",
       "      <th>4</th>\n",
       "      <td>great stay great stay, went seahawk game aweso...</td>\n",
       "      <td>5</td>\n",
       "      <td>negative</td>\n",
       "      <td>{'neg': 0.118, 'neu': 0.644, 'pos': 0.238, 'co...</td>\n",
       "      <td>0.9870</td>\n",
       "      <td>positve</td>\n",
       "    </tr>\n",
       "  </tbody>\n",
       "</table>\n",
       "</div>"
      ],
      "text/plain": [
       "                                              Review  Rating Rating_result  \\\n",
       "0  nice hotel expensive parking got good deal sta...       4      negative   \n",
       "1  ok nothing special charge diamond member hilto...       2      negative   \n",
       "2  nice rooms not 4* experience hotel monaco seat...       3      negative   \n",
       "3  unique, great stay, wonderful time hotel monac...       5      negative   \n",
       "4  great stay great stay, went seahawk game aweso...       5      negative   \n",
       "\n",
       "                                              scores  compound compound_result  \n",
       "0  {'neg': 0.093, 'neu': 0.646, 'pos': 0.261, 'co...    0.9626         positve  \n",
       "1  {'neg': 0.092, 'neu': 0.711, 'pos': 0.197, 'co...    0.9870         positve  \n",
       "2  {'neg': 0.084, 'neu': 0.715, 'pos': 0.2, 'comp...    0.9842         positve  \n",
       "3  {'neg': 0.055, 'neu': 0.557, 'pos': 0.388, 'co...    0.9920         positve  \n",
       "4  {'neg': 0.118, 'neu': 0.644, 'pos': 0.238, 'co...    0.9870         positve  "
      ]
     },
     "execution_count": 40,
     "metadata": {},
     "output_type": "execute_result"
    }
   ],
   "source": [
    "data.head()"
   ]
  },
  {
   "cell_type": "code",
   "execution_count": 42,
   "id": "8146ac88",
   "metadata": {},
   "outputs": [
    {
     "data": {
      "text/html": [
       "<div>\n",
       "<style scoped>\n",
       "    .dataframe tbody tr th:only-of-type {\n",
       "        vertical-align: middle;\n",
       "    }\n",
       "\n",
       "    .dataframe tbody tr th {\n",
       "        vertical-align: top;\n",
       "    }\n",
       "\n",
       "    .dataframe thead th {\n",
       "        text-align: right;\n",
       "    }\n",
       "</style>\n",
       "<table border=\"1\" class=\"dataframe\">\n",
       "  <thead>\n",
       "    <tr style=\"text-align: right;\">\n",
       "      <th></th>\n",
       "      <th>Review</th>\n",
       "      <th>Rating</th>\n",
       "      <th>Rating_result</th>\n",
       "      <th>scores</th>\n",
       "      <th>compound</th>\n",
       "      <th>compound_result</th>\n",
       "    </tr>\n",
       "  </thead>\n",
       "  <tbody>\n",
       "    <tr>\n",
       "      <th>20486</th>\n",
       "      <td>best kept secret 3rd time staying charm, not 5...</td>\n",
       "      <td>5</td>\n",
       "      <td>negative</td>\n",
       "      <td>{'neg': 0.087, 'neu': 0.671, 'pos': 0.242, 'co...</td>\n",
       "      <td>0.9699</td>\n",
       "      <td>positve</td>\n",
       "    </tr>\n",
       "    <tr>\n",
       "      <th>20487</th>\n",
       "      <td>great location price view hotel great quick pl...</td>\n",
       "      <td>4</td>\n",
       "      <td>negative</td>\n",
       "      <td>{'neg': 0.0, 'neu': 0.57, 'pos': 0.43, 'compou...</td>\n",
       "      <td>0.9753</td>\n",
       "      <td>positve</td>\n",
       "    </tr>\n",
       "    <tr>\n",
       "      <th>20488</th>\n",
       "      <td>ok just looks nice modern outside, desk staff ...</td>\n",
       "      <td>2</td>\n",
       "      <td>negative</td>\n",
       "      <td>{'neg': 0.131, 'neu': 0.724, 'pos': 0.145, 'co...</td>\n",
       "      <td>0.2629</td>\n",
       "      <td>positve</td>\n",
       "    </tr>\n",
       "    <tr>\n",
       "      <th>20489</th>\n",
       "      <td>hotel theft ruined vacation hotel opened sept ...</td>\n",
       "      <td>1</td>\n",
       "      <td>negative</td>\n",
       "      <td>{'neg': 0.155, 'neu': 0.677, 'pos': 0.168, 'co...</td>\n",
       "      <td>0.9696</td>\n",
       "      <td>positve</td>\n",
       "    </tr>\n",
       "    <tr>\n",
       "      <th>20490</th>\n",
       "      <td>people talking, ca n't believe excellent ratin...</td>\n",
       "      <td>2</td>\n",
       "      <td>negative</td>\n",
       "      <td>{'neg': 0.172, 'neu': 0.665, 'pos': 0.163, 'co...</td>\n",
       "      <td>-0.0003</td>\n",
       "      <td>negative</td>\n",
       "    </tr>\n",
       "  </tbody>\n",
       "</table>\n",
       "</div>"
      ],
      "text/plain": [
       "                                                  Review  Rating  \\\n",
       "20486  best kept secret 3rd time staying charm, not 5...       5   \n",
       "20487  great location price view hotel great quick pl...       4   \n",
       "20488  ok just looks nice modern outside, desk staff ...       2   \n",
       "20489  hotel theft ruined vacation hotel opened sept ...       1   \n",
       "20490  people talking, ca n't believe excellent ratin...       2   \n",
       "\n",
       "      Rating_result                                             scores  \\\n",
       "20486      negative  {'neg': 0.087, 'neu': 0.671, 'pos': 0.242, 'co...   \n",
       "20487      negative  {'neg': 0.0, 'neu': 0.57, 'pos': 0.43, 'compou...   \n",
       "20488      negative  {'neg': 0.131, 'neu': 0.724, 'pos': 0.145, 'co...   \n",
       "20489      negative  {'neg': 0.155, 'neu': 0.677, 'pos': 0.168, 'co...   \n",
       "20490      negative  {'neg': 0.172, 'neu': 0.665, 'pos': 0.163, 'co...   \n",
       "\n",
       "       compound compound_result  \n",
       "20486    0.9699         positve  \n",
       "20487    0.9753         positve  \n",
       "20488    0.2629         positve  \n",
       "20489    0.9696         positve  \n",
       "20490   -0.0003        negative  "
      ]
     },
     "execution_count": 42,
     "metadata": {},
     "output_type": "execute_result"
    }
   ],
   "source": [
    "data.tail()"
   ]
  },
  {
   "cell_type": "code",
   "execution_count": 43,
   "id": "3b225ee2",
   "metadata": {},
   "outputs": [],
   "source": [
    "data[\"compound_result\"] = \"negative\""
   ]
  },
  {
   "cell_type": "code",
   "execution_count": 45,
   "id": "e6d01f42",
   "metadata": {},
   "outputs": [
    {
     "data": {
      "text/html": [
       "<div>\n",
       "<style scoped>\n",
       "    .dataframe tbody tr th:only-of-type {\n",
       "        vertical-align: middle;\n",
       "    }\n",
       "\n",
       "    .dataframe tbody tr th {\n",
       "        vertical-align: top;\n",
       "    }\n",
       "\n",
       "    .dataframe thead th {\n",
       "        text-align: right;\n",
       "    }\n",
       "</style>\n",
       "<table border=\"1\" class=\"dataframe\">\n",
       "  <thead>\n",
       "    <tr style=\"text-align: right;\">\n",
       "      <th></th>\n",
       "      <th>Review</th>\n",
       "      <th>Rating</th>\n",
       "      <th>Rating_result</th>\n",
       "      <th>scores</th>\n",
       "      <th>compound</th>\n",
       "      <th>compound_result</th>\n",
       "    </tr>\n",
       "  </thead>\n",
       "  <tbody>\n",
       "    <tr>\n",
       "      <th>0</th>\n",
       "      <td>nice hotel expensive parking got good deal sta...</td>\n",
       "      <td>4</td>\n",
       "      <td>negative</td>\n",
       "      <td>{'neg': 0.093, 'neu': 0.646, 'pos': 0.261, 'co...</td>\n",
       "      <td>0.9626</td>\n",
       "      <td>negative</td>\n",
       "    </tr>\n",
       "    <tr>\n",
       "      <th>1</th>\n",
       "      <td>ok nothing special charge diamond member hilto...</td>\n",
       "      <td>2</td>\n",
       "      <td>negative</td>\n",
       "      <td>{'neg': 0.092, 'neu': 0.711, 'pos': 0.197, 'co...</td>\n",
       "      <td>0.9870</td>\n",
       "      <td>negative</td>\n",
       "    </tr>\n",
       "    <tr>\n",
       "      <th>2</th>\n",
       "      <td>nice rooms not 4* experience hotel monaco seat...</td>\n",
       "      <td>3</td>\n",
       "      <td>negative</td>\n",
       "      <td>{'neg': 0.084, 'neu': 0.715, 'pos': 0.2, 'comp...</td>\n",
       "      <td>0.9842</td>\n",
       "      <td>negative</td>\n",
       "    </tr>\n",
       "    <tr>\n",
       "      <th>3</th>\n",
       "      <td>unique, great stay, wonderful time hotel monac...</td>\n",
       "      <td>5</td>\n",
       "      <td>negative</td>\n",
       "      <td>{'neg': 0.055, 'neu': 0.557, 'pos': 0.388, 'co...</td>\n",
       "      <td>0.9920</td>\n",
       "      <td>negative</td>\n",
       "    </tr>\n",
       "    <tr>\n",
       "      <th>4</th>\n",
       "      <td>great stay great stay, went seahawk game aweso...</td>\n",
       "      <td>5</td>\n",
       "      <td>negative</td>\n",
       "      <td>{'neg': 0.118, 'neu': 0.644, 'pos': 0.238, 'co...</td>\n",
       "      <td>0.9870</td>\n",
       "      <td>negative</td>\n",
       "    </tr>\n",
       "  </tbody>\n",
       "</table>\n",
       "</div>"
      ],
      "text/plain": [
       "                                              Review  Rating Rating_result  \\\n",
       "0  nice hotel expensive parking got good deal sta...       4      negative   \n",
       "1  ok nothing special charge diamond member hilto...       2      negative   \n",
       "2  nice rooms not 4* experience hotel monaco seat...       3      negative   \n",
       "3  unique, great stay, wonderful time hotel monac...       5      negative   \n",
       "4  great stay great stay, went seahawk game aweso...       5      negative   \n",
       "\n",
       "                                              scores  compound compound_result  \n",
       "0  {'neg': 0.093, 'neu': 0.646, 'pos': 0.261, 'co...    0.9626        negative  \n",
       "1  {'neg': 0.092, 'neu': 0.711, 'pos': 0.197, 'co...    0.9870        negative  \n",
       "2  {'neg': 0.084, 'neu': 0.715, 'pos': 0.2, 'comp...    0.9842        negative  \n",
       "3  {'neg': 0.055, 'neu': 0.557, 'pos': 0.388, 'co...    0.9920        negative  \n",
       "4  {'neg': 0.118, 'neu': 0.644, 'pos': 0.238, 'co...    0.9870        negative  "
      ]
     },
     "execution_count": 45,
     "metadata": {},
     "output_type": "execute_result"
    }
   ],
   "source": [
    "data.head()"
   ]
  },
  {
   "cell_type": "code",
   "execution_count": 46,
   "id": "10d475cf",
   "metadata": {},
   "outputs": [
    {
     "data": {
      "text/html": [
       "<div>\n",
       "<style scoped>\n",
       "    .dataframe tbody tr th:only-of-type {\n",
       "        vertical-align: middle;\n",
       "    }\n",
       "\n",
       "    .dataframe tbody tr th {\n",
       "        vertical-align: top;\n",
       "    }\n",
       "\n",
       "    .dataframe thead th {\n",
       "        text-align: right;\n",
       "    }\n",
       "</style>\n",
       "<table border=\"1\" class=\"dataframe\">\n",
       "  <thead>\n",
       "    <tr style=\"text-align: right;\">\n",
       "      <th></th>\n",
       "      <th>Review</th>\n",
       "      <th>Rating</th>\n",
       "      <th>Rating_result</th>\n",
       "      <th>scores</th>\n",
       "      <th>compound</th>\n",
       "      <th>compound_result</th>\n",
       "    </tr>\n",
       "  </thead>\n",
       "  <tbody>\n",
       "    <tr>\n",
       "      <th>0</th>\n",
       "      <td>nice hotel expensive parking got good deal sta...</td>\n",
       "      <td>4</td>\n",
       "      <td>negative</td>\n",
       "      <td>{'neg': 0.093, 'neu': 0.646, 'pos': 0.261, 'co...</td>\n",
       "      <td>0.9626</td>\n",
       "      <td>positive</td>\n",
       "    </tr>\n",
       "    <tr>\n",
       "      <th>1</th>\n",
       "      <td>ok nothing special charge diamond member hilto...</td>\n",
       "      <td>2</td>\n",
       "      <td>negative</td>\n",
       "      <td>{'neg': 0.092, 'neu': 0.711, 'pos': 0.197, 'co...</td>\n",
       "      <td>0.9870</td>\n",
       "      <td>positive</td>\n",
       "    </tr>\n",
       "    <tr>\n",
       "      <th>2</th>\n",
       "      <td>nice rooms not 4* experience hotel monaco seat...</td>\n",
       "      <td>3</td>\n",
       "      <td>negative</td>\n",
       "      <td>{'neg': 0.084, 'neu': 0.715, 'pos': 0.2, 'comp...</td>\n",
       "      <td>0.9842</td>\n",
       "      <td>positive</td>\n",
       "    </tr>\n",
       "    <tr>\n",
       "      <th>3</th>\n",
       "      <td>unique, great stay, wonderful time hotel monac...</td>\n",
       "      <td>5</td>\n",
       "      <td>negative</td>\n",
       "      <td>{'neg': 0.055, 'neu': 0.557, 'pos': 0.388, 'co...</td>\n",
       "      <td>0.9920</td>\n",
       "      <td>positive</td>\n",
       "    </tr>\n",
       "    <tr>\n",
       "      <th>4</th>\n",
       "      <td>great stay great stay, went seahawk game aweso...</td>\n",
       "      <td>5</td>\n",
       "      <td>negative</td>\n",
       "      <td>{'neg': 0.118, 'neu': 0.644, 'pos': 0.238, 'co...</td>\n",
       "      <td>0.9870</td>\n",
       "      <td>positive</td>\n",
       "    </tr>\n",
       "  </tbody>\n",
       "</table>\n",
       "</div>"
      ],
      "text/plain": [
       "                                              Review  Rating Rating_result  \\\n",
       "0  nice hotel expensive parking got good deal sta...       4      negative   \n",
       "1  ok nothing special charge diamond member hilto...       2      negative   \n",
       "2  nice rooms not 4* experience hotel monaco seat...       3      negative   \n",
       "3  unique, great stay, wonderful time hotel monac...       5      negative   \n",
       "4  great stay great stay, went seahawk game aweso...       5      negative   \n",
       "\n",
       "                                              scores  compound compound_result  \n",
       "0  {'neg': 0.093, 'neu': 0.646, 'pos': 0.261, 'co...    0.9626        positive  \n",
       "1  {'neg': 0.092, 'neu': 0.711, 'pos': 0.197, 'co...    0.9870        positive  \n",
       "2  {'neg': 0.084, 'neu': 0.715, 'pos': 0.2, 'comp...    0.9842        positive  \n",
       "3  {'neg': 0.055, 'neu': 0.557, 'pos': 0.388, 'co...    0.9920        positive  \n",
       "4  {'neg': 0.118, 'neu': 0.644, 'pos': 0.238, 'co...    0.9870        positive  "
      ]
     },
     "execution_count": 46,
     "metadata": {},
     "output_type": "execute_result"
    }
   ],
   "source": [
    "data[\"compound_result\"] = \"positive\"\n",
    "data.head()"
   ]
  },
  {
   "cell_type": "code",
   "execution_count": 47,
   "id": "42b78340",
   "metadata": {},
   "outputs": [
    {
     "data": {
      "text/plain": [
       "{'neg': 0.493, 'neu': 0.507, 'pos': 0.0, 'compound': -0.7782}"
      ]
     },
     "execution_count": 47,
     "metadata": {},
     "output_type": "execute_result"
    }
   ],
   "source": [
    "sample = \"hotel was very worst and foods are not good \"\n",
    "sentanalyze.polarity_scores(sample)"
   ]
  },
  {
   "cell_type": "code",
   "execution_count": 48,
   "id": "4e7da559",
   "metadata": {},
   "outputs": [
    {
     "data": {
      "text/plain": [
       "{'neg': 0.0, 'neu': 0.446, 'pos': 0.554, 'compound': 0.7351}"
      ]
     },
     "execution_count": 48,
     "metadata": {},
     "output_type": "execute_result"
    }
   ],
   "source": [
    "sample1 = \" The horel was good and i enjoyed\"\n",
    "sentanalyze.polarity_scores(sample1)"
   ]
  },
  {
   "cell_type": "code",
   "execution_count": 49,
   "id": "132f779a",
   "metadata": {},
   "outputs": [
    {
     "data": {
      "text/plain": [
       "{'neg': 0.422, 'neu': 0.356, 'pos': 0.222, 'compound': -0.5029}"
      ]
     },
     "execution_count": 49,
     "metadata": {},
     "output_type": "execute_result"
    }
   ],
   "source": [
    "sample2 = \" Very delicious food but bad service\"\n",
    "sentanalyze.polarity_scores(sample2)"
   ]
  },
  {
   "cell_type": "code",
   "execution_count": null,
   "id": "084fdf27",
   "metadata": {},
   "outputs": [],
   "source": []
  }
 ],
 "metadata": {
  "kernelspec": {
   "display_name": "Python 3 (ipykernel)",
   "language": "python",
   "name": "python3"
  },
  "language_info": {
   "codemirror_mode": {
    "name": "ipython",
    "version": 3
   },
   "file_extension": ".py",
   "mimetype": "text/x-python",
   "name": "python",
   "nbconvert_exporter": "python",
   "pygments_lexer": "ipython3",
   "version": "3.9.13"
  }
 },
 "nbformat": 4,
 "nbformat_minor": 5
}
